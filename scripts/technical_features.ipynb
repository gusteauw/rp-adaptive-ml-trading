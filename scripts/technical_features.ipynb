{
 "cells": [
  {
   "cell_type": "code",
   "execution_count": 3,
   "id": "eaae1a15",
   "metadata": {},
   "outputs": [],
   "source": [
    "import os\n",
    "os.chdir(\"/Users/auguste/Desktop/Dossiers/HEC/Courses/RP/rp-adaptive-ml-trading/data/raw/AAPL\")"
   ]
  },
  {
   "cell_type": "code",
   "execution_count": null,
   "id": "d6ffc557",
   "metadata": {},
   "outputs": [
    {
     "name": "stdout",
     "output_type": "stream",
     "text": [
      "✅ Patched technical features script.\n",
      "✔ Selected 51 features.\n",
      "📐 Feature matrix shape: (2769, 52)\n",
      "🎯 Label matrix shape:   (2769, 7)\n"
     ]
    }
   ],
   "source": [
    "import pandas as pd\n",
    "import numpy as np\n",
    "\n",
    "# === Load and prepare ===\n",
    "df = pd.read_csv(\"AAPL_2014_2024_technical_cleaned.csv\", parse_dates=[\"date\"])\n",
    "df = df.sort_values(\"date\").reset_index(drop=True)\n",
    "\n",
    "# === Clean column names ===\n",
    "df.columns = (\n",
    "    df.columns\n",
    "    .str.lower()\n",
    "    .str.replace(r\"[^\\w\\s]\", \"\", regex=True)\n",
    "    .str.replace(r\"\\s+\", \"_\", regex=True)\n",
    "    .str.strip(\"_\")\n",
    ")\n",
    "\n",
    "# === Label construction ===\n",
    "df['y_up_1d']  = (df['close'].shift(-1) > df['close']).astype(int)\n",
    "df['y_up_5d']  = (df['close'].shift(-5) > df['close']).astype(int)\n",
    "df['y_up_20d'] = (df['close'].shift(-20) > df['close']).astype(int)\n",
    "\n",
    "df['y_ret_1d'] = df['close'].pct_change().shift(-1)\n",
    "df['y_ret_5d'] = df['close'].pct_change(5).shift(-5)\n",
    "df['y_vol_5d'] = df['close'].pct_change().rolling(5).std().shift(-5)\n",
    "\n",
    "# === Intelligent feature matching ===\n",
    "candidate_keywords = [\n",
    "    \"rsi\", \"macd\", \"signal\", \"hist\", \"momentum\", \"money\", \"obv\", \"roc\",\n",
    "    \"osc\", \"trix\", \"williams\", \"cci\", \"std\", \"vol\", \"schaff\", \"ultimate\",\n",
    "    \"trix\", \"price\", \"trend\", \"acc\", \"ulcer\", \"klinger\", \"psar\", \"mass\"\n",
    "]\n",
    "\n",
    "# Heuristic filter: keep features with numeric type and matching any keyword\n",
    "feature_candidates = [\n",
    "    col for col in df.columns\n",
    "    if any(k in col for k in candidate_keywords)\n",
    "    and df[col].dtype in [np.float64, np.float32, np.int64]\n",
    "]\n",
    "\n",
    "# Optional: drop columns with too much missing data\n",
    "valid_features = [col for col in feature_candidates if df[col].isna().mean() < 0.3]\n",
    "\n",
    "# Final feature matrix\n",
    "X = df[[\"date\"] + valid_features].copy()\n",
    "y = df[[\"date\", \"y_up_1d\", \"y_up_5d\", \"y_up_20d\", \"y_ret_1d\", \"y_ret_5d\", \"y_vol_5d\"]].copy()\n",
    "\n",
    "# === Diagnostics ===\n",
    "print(\" Patched technical features script.\")\n",
    "print(f\"Selected {len(valid_features)} features.\")\n",
    "print(f\"Feature matrix shape: {X.shape}\")\n",
    "print(f\"Label matrix shape:   {y.shape}\")\n"
   ]
  },
  {
   "cell_type": "code",
   "execution_count": null,
   "id": "2450f3c0",
   "metadata": {},
   "outputs": [],
   "source": []
  }
 ],
 "metadata": {
  "kernelspec": {
   "display_name": "rp-adaptive-ml",
   "language": "python",
   "name": "python3"
  },
  "language_info": {
   "codemirror_mode": {
    "name": "ipython",
    "version": 3
   },
   "file_extension": ".py",
   "mimetype": "text/x-python",
   "name": "python",
   "nbconvert_exporter": "python",
   "pygments_lexer": "ipython3",
   "version": "3.10.17"
  }
 },
 "nbformat": 4,
 "nbformat_minor": 5
}
