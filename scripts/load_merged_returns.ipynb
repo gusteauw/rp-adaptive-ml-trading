{
 "cells": [
  {
   "cell_type": "code",
   "execution_count": 1,
   "id": "64892665",
   "metadata": {},
   "outputs": [],
   "source": [
    "import os\n",
    "import pandas as pd\n",
    "import numpy as np\n",
    "import matplotlib.pyplot as plt\n",
    "from sklearn.metrics import mean_absolute_error, r2_score"
   ]
  },
  {
   "cell_type": "code",
   "execution_count": 4,
   "id": "78f6d63d",
   "metadata": {},
   "outputs": [
    {
     "data": {
      "text/plain": [
       "'/Users/auguste/Desktop/Dossiers/HEC/Courses/RP/rp-adaptive-ml-trading'"
      ]
     },
     "execution_count": 4,
     "metadata": {},
     "output_type": "execute_result"
    }
   ],
   "source": [
    "os.getcwd()"
   ]
  },
  {
   "cell_type": "code",
   "execution_count": null,
   "id": "f798bac6",
   "metadata": {},
   "outputs": [],
   "source": [
    "def load_merged_with_returns(filepath, aapl_path):\n",
    "    # Load AAPL\n",
    "    df_price = pd.read_csv(aapl_path, parse_dates=[\"Date\"])\n",
    "    df_price = df_price.sort_values(\"Date\").reset_index(drop=True)\n",
    "    df_price[\"daily_return\"] = df_price[\"Adj Close\"].pct_change()\n",
    "    df_return = df_price[[\"Date\", \"daily_return\"]].dropna().rename(columns={\"Date\": \"date\"})\n",
    "\n",
    "    # Load model predictions\n",
    "    df_pred = pd.read_csv(filepath, parse_dates=[\"date\"])\n",
    "    df = pd.merge(df_pred, df_return, on=\"date\", how=\"inner\")\n",
    "    return df"
   ]
  }
 ],
 "metadata": {
  "kernelspec": {
   "display_name": "rp-adaptive-ml",
   "language": "python",
   "name": "python3"
  },
  "language_info": {
   "codemirror_mode": {
    "name": "ipython",
    "version": 3
   },
   "file_extension": ".py",
   "mimetype": "text/x-python",
   "name": "python",
   "nbconvert_exporter": "python",
   "pygments_lexer": "ipython3",
   "version": "3.10.17"
  }
 },
 "nbformat": 4,
 "nbformat_minor": 5
}
